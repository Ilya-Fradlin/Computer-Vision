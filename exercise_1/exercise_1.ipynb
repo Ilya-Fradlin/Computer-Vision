{
 "cells": [
  {
   "attachments": {},
   "cell_type": "markdown",
   "metadata": {},
   "source": [
    "<center>\n",
    "<a href=\"https://www.vision.rwth-aachen.de/\"><img src=\"data:image/png;base64,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\" alt=\"Vision Institute i13\" width=\"320\"/></a>\n",
    "</center>\n",
    "\n",
    "# Computer Vision Exercises\n",
    "\n",
    "**Assistants:**\n",
    "<br>\n",
    "Alexey Nekrasov &lt;nekrasov@vision.rwth-aachen.de&gt;\n",
    "<br>\n",
    "Jens Piekenbrinck &lt;piekenbrinck@vision.rwth-aachen.de&gt;\n",
    "\n",
    "The assignments are **mandatory**!\n",
    "\n",
    "We want to provide you with an interactive learning experience, so the assignments rely on [Jupyter](https://jupyter.org/) notebooks which you can run locally on your computer. The RWTH also offers a [JupyterHub](https://jupyter.rwth-aachen.de/) where you can run notebooks. If you have any questions, please contact us.\n",
    "\n",
    "Make sure you fill in any place in *code cells* that says:\n",
    "```python\n",
    "# YOUR CODE HERE\n",
    "raise NotImplementedError()\n",
    "```\n",
    "\n",
    "Make sure you fill in any place in *text cells* that says:\n",
    "<br>\n",
    "\n",
    "`YOUR ANSWER HERE`\n",
    "\n",
    "\n",
    "### Submission:\n",
    "\n",
    "⏰ Due date: 2023-05-07 23:59:00\n",
    "\n",
    "**Important**:\n",
    "Follow the instructions below when submitting your attempt.\\\n",
    "Submissions not following these instructions will not be graded.\n",
    "\n",
    "1. Submit in **teams of 3 or 4 students**, add their names and matriculation numbers below. Only **one team member should upload** the solutions.\n",
    "2. **Use jupyter notebook**. Other notebook-editing software (e.g. jupyter-lab, pycharm) might corrupt the notebook files and could have issues with displaying matplotlib interactively.\n",
    "3. **Do not remove, modify or duplicate** any given cells, except those in which you need to fill in your implementation. You can add new cells in order to present additional texts or plots.\n",
    "4. **Restart the kernel and re-run the whole notebook** once before submission. After this step, the cell id should be incremental from top to bottom, and all plots should be displayed.\n",
    "5. **Submit only the `.ipynb` files**, do not upload archives (zip, rar, tar, etc.), images or datasets.\n",
    "6. **Do not change the filenames** of the `.ipynb` files."
   ]
  },
  {
   "attachments": {},
   "cell_type": "markdown",
   "metadata": {},
   "source": [
    "Team members (names and matriculation numbers):\n",
    "* \n",
    "* \n",
    "* \n",
    "* "
   ]
  },
  {
   "cell_type": "markdown",
   "metadata": {
    "deletable": false,
    "editable": false,
    "nbgrader": {
     "cell_type": "markdown",
     "checksum": "cf61ed01f96441154701d8f542817296",
     "grade": false,
     "grade_id": "cell-dd5cc37369156752",
     "locked": true,
     "schema_version": 3,
     "solution": false,
     "task": false
    }
   },
   "source": [
    "This exercise includes five parts:\n",
    "1. Gaussian filtering\n",
    "2. Fourier transform\n",
    "3. Image derivatives\n",
    "4. Edge detection\n",
    "5. Hough transform"
   ]
  },
  {
   "cell_type": "code",
   "execution_count": null,
   "metadata": {
    "deletable": false,
    "editable": false,
    "nbgrader": {
     "cell_type": "code",
     "checksum": "9464c0e3f2287cf082a774a3a5a0b1fc",
     "grade": false,
     "grade_id": "cell-ea82104ac1cf02d8",
     "locked": true,
     "schema_version": 3,
     "solution": false,
     "task": false
    }
   },
   "outputs": [],
   "source": [
    "%%html\n",
    "<!-- Run this cell to add heading letters per subtask (like a, b, c) -->\n",
    "<style>\n",
    "body {counter-reset: section;}\n",
    "h1:before {counter-increment: section;\n",
    "           content: counter(section, number) \". \";}\n",
    "</style>"
   ]
  },
  {
   "cell_type": "code",
   "execution_count": null,
   "metadata": {
    "deletable": false,
    "editable": false,
    "nbgrader": {
     "cell_type": "code",
     "checksum": "0286afbe91772addffc4b6a1fbc9f6fc",
     "grade": false,
     "grade_id": "cell-63750c7bdb00ed93",
     "locked": true,
     "schema_version": 3,
     "solution": false,
     "task": false
    }
   },
   "outputs": [],
   "source": [
    "%matplotlib notebook\n",
    "import cv2\n",
    "import imageio.v3 as iio\n",
    "import matplotlib as mpl\n",
    "import matplotlib.pyplot as plt\n",
    "import numpy as np\n",
    "from scipy import ndimage"
   ]
  },
  {
   "cell_type": "markdown",
   "metadata": {
    "deletable": false,
    "editable": false,
    "nbgrader": {
     "cell_type": "markdown",
     "checksum": "9ea3b5c5872e1fbb5fb236decf0c9388",
     "grade": false,
     "grade_id": "cell-796243e42a593a0f",
     "locked": true,
     "schema_version": 3,
     "solution": false,
     "task": false
    }
   },
   "source": [
    "# Gaussian filtering\n",
    "In the following, you will implement a method which generates and applies a Gaussian filter for a given variance and number of samples."
   ]
  },
  {
   "cell_type": "code",
   "execution_count": null,
   "metadata": {
    "deletable": false,
    "editable": false,
    "nbgrader": {
     "cell_type": "code",
     "checksum": "d98e433b42dc8f54796576a819122a12",
     "grade": false,
     "grade_id": "cell-12c71e1393632034",
     "locked": true,
     "schema_version": 3,
     "solution": false,
     "task": false
    }
   },
   "outputs": [],
   "source": [
    "# Some convenience functions.\n",
    "\n",
    "\n",
    "def plot_multiple(images, titles, colormap=\"gray\", max_columns=np.inf, share_axes=True):\n",
    "    \"\"\"Plot multiple images as subplots on a grid.\"\"\"\n",
    "    assert len(images) == len(titles)\n",
    "    n_images = len(images)\n",
    "    n_cols = min(max_columns, n_images)\n",
    "    n_rows = int(np.ceil(n_images / n_cols))\n",
    "    fig, axes = plt.subplots(\n",
    "        n_rows,\n",
    "        n_cols,\n",
    "        figsize=(n_cols * 4, n_rows * 4),\n",
    "        squeeze=False,\n",
    "        sharex=share_axes,\n",
    "        sharey=share_axes,\n",
    "    )\n",
    "\n",
    "    axes = axes.flat\n",
    "    # Hide subplots without content\n",
    "    for ax in axes[n_images:]:\n",
    "        ax.axis(\"off\")\n",
    "\n",
    "    if not isinstance(colormap, (list, tuple)):\n",
    "        colormaps = [colormap] * n_images\n",
    "    else:\n",
    "        colormaps = colormap\n",
    "\n",
    "    for ax, image, title, cmap in zip(axes, images, titles, colormaps):\n",
    "        ax.imshow(image, cmap=cmap)\n",
    "        ax.set_title(title)\n",
    "\n",
    "    fig.tight_layout()"
   ]
  },
  {
   "cell_type": "markdown",
   "metadata": {
    "deletable": false,
    "editable": false,
    "nbgrader": {
     "cell_type": "markdown",
     "checksum": "f8d143e1422a2a93956512dd45158983",
     "grade": false,
     "grade_id": "cell-05c9f523b7ff124a",
     "locked": true,
     "schema_version": 3,
     "solution": false,
     "task": false
    }
   },
   "source": [
    "Start by writing a function ``gauss`` which creates a 1D Gaussian from a given vector of integer indices $\\mathtt{x = [-w, \\ldots, w]}$:\n",
    "$$\n",
    "    \\mathtt{G[i]} = \\frac{1}{\\sqrt{2\\pi}\\sigma}\\operatorname{exp}\\biggl(-\\frac{\\mathtt{x[i]}^2}{2\\sigma^2}\\biggr)\n",
    "$$\n",
    "where $\\sigma$ is the standard deviation.\n",
    "\n",
    "Tip: In NumPy the best practice is to use functions on entire arrays at once, instead of iterating over items one by one. This makes the code easier to understand and also faster (since the actual loop is implemented in C under the hood)."
   ]
  },
  {
   "cell_type": "code",
   "execution_count": null,
   "metadata": {
    "deletable": false,
    "nbgrader": {
     "cell_type": "code",
     "checksum": "02cddcfb816df1387f57450539814048",
     "grade": true,
     "grade_id": "cell-cc8f6edd928cdffb",
     "locked": false,
     "points": 1,
     "schema_version": 3,
     "solution": true
    }
   },
   "outputs": [],
   "source": [
    "# POINTS: 1\n",
    "\n",
    "def gauss(x, sigma):\n",
    "    # YOUR CODE HERE\n",
    "    raise NotImplementedError()"
   ]
  },
  {
   "cell_type": "code",
   "execution_count": null,
   "metadata": {
    "deletable": false,
    "editable": false,
    "nbgrader": {
     "cell_type": "code",
     "checksum": "6543052613fb73787a813f1f6db38326",
     "grade": false,
     "grade_id": "cell-099a258c8d73e783",
     "locked": true,
     "schema_version": 3,
     "solution": false,
     "task": false
    }
   },
   "outputs": [],
   "source": [
    "x = np.linspace(-5, 5, 100)\n",
    "y = gauss(x, sigma=2)\n",
    "fig, ax = plt.subplots()\n",
    "ax.plot(x, y)\n",
    "fig.tight_layout()\n",
    "\n",
    "print(\"Gauss of 5 is\", gauss(5, sigma=2))"
   ]
  },
  {
   "cell_type": "markdown",
   "metadata": {
    "deletable": false,
    "editable": false,
    "nbgrader": {
     "cell_type": "markdown",
     "checksum": "bc13ae82edf78235937ac47daff8ae00",
     "grade": false,
     "grade_id": "cell-b2984d372bb5182a",
     "locked": true,
     "schema_version": 3,
     "solution": false,
     "task": false
    }
   },
   "source": [
    "Use the above function to implement a function `gaussian_filter(image, sigma, padding)`, which first generates a Gaussian filter and then applies it to the `image`.\n",
    "The size of the filter should be $2 \\cdot \\lceil 3 \\sigma \\rceil + 1$.\n",
    "Remember that the Gaussian is separable, *i.e.* that an equivalent 2D result can be obtained through a sequence of two 1D filtering operations.\n",
    "Do not use any existing implementation for convolution in this part (e.g. `scipy.ndimage.convolve`).\n",
    "However, you are allowed to use these implementations in the following questions.\n",
    "\n",
    "You do not have to implement padding, but if you choose to, you can use whichever padding method that is reasonable. The output must have the same dimension with the input."
   ]
  },
  {
   "cell_type": "code",
   "execution_count": null,
   "metadata": {
    "deletable": false,
    "nbgrader": {
     "cell_type": "code",
     "checksum": "c419315cfc180ffe1ff02cdab7aa2bca",
     "grade": true,
     "grade_id": "cell-add6d96484bc6c7e",
     "locked": false,
     "points": 5,
     "schema_version": 3,
     "solution": true,
     "task": false
    }
   },
   "outputs": [],
   "source": [
    "# POINTS: 5\n",
    "\n",
    "def gaussian_filter(image, sigma, padding=True):\n",
    "    # YOUR CODE HERE\n",
    "    raise NotImplementedError()\n",
    "    return image_result"
   ]
  },
  {
   "cell_type": "markdown",
   "metadata": {
    "deletable": false,
    "editable": false,
    "nbgrader": {
     "cell_type": "markdown",
     "checksum": "3acbd1c338e5a828501f2a8f2bc4dbf5",
     "grade": false,
     "grade_id": "cell-5a67e4418ba2d1a9",
     "locked": true,
     "schema_version": 3,
     "solution": false,
     "task": false
    }
   },
   "source": [
    "Read the image ``graf_small.png`` and apply the filters with ``sigma = 2``, ``4``, and ``8``.\n",
    "Again, choose the kernel size as $2 \\cdot \\lceil 3 \\sigma\\rceil + 1$.\n",
    "What do you observe?"
   ]
  },
  {
   "cell_type": "code",
   "execution_count": null,
   "metadata": {
    "deletable": false,
    "editable": false,
    "nbgrader": {
     "cell_type": "code",
     "checksum": "26c5b9a6f326c8667239c0e27f504b4d",
     "grade": false,
     "grade_id": "cell-4e57a63100a2a6f5",
     "locked": true,
     "schema_version": 3,
     "solution": false,
     "task": false
    }
   },
   "outputs": [],
   "source": [
    "image = iio.imread(\"graf_small.png\")\n",
    "sigmas = [2, 4, 8]\n",
    "blurred_images = [gaussian_filter(image, s) for s in sigmas]\n",
    "titles = [f\"sigma={s}\" for s in sigmas]\n",
    "\n",
    "plot_multiple(blurred_images, titles)"
   ]
  },
  {
   "cell_type": "markdown",
   "metadata": {
    "deletable": false,
    "editable": false,
    "nbgrader": {
     "cell_type": "markdown",
     "checksum": "c96f1db74c2229ebd721d1cf67452ac5",
     "grade": false,
     "grade_id": "cell-cddf0a455fd28a27",
     "locked": true,
     "schema_version": 3,
     "solution": false,
     "task": false
    }
   },
   "source": [
    "OpenCV has many built-in function for image smoothing.\n",
    "Check out this page:\n",
    "https://docs.opencv.org/3.1.0/d4/d13/tutorial_py_filtering.html\n",
    "\n",
    "Compare the result of ``cv2.GaussianBlur`` with your own implementation by computing the difference image.\n",
    "Was your implementation correct?"
   ]
  },
  {
   "cell_type": "code",
   "execution_count": null,
   "metadata": {
    "deletable": false,
    "editable": false,
    "nbgrader": {
     "cell_type": "code",
     "checksum": "2fd21fbe503a9ad81a2778e96e70285c",
     "grade": false,
     "grade_id": "cell-cc2728a8104625b3",
     "locked": true,
     "schema_version": 3,
     "solution": false,
     "task": false
    }
   },
   "outputs": [],
   "source": [
    "def gauss_cv(image, sigma):\n",
    "    ks = 2 * int(np.ceil(3 * sigma)) + 1\n",
    "    return cv2.GaussianBlur(image, (ks, ks), sigma, cv2.BORDER_DEFAULT)\n",
    "\n",
    "\n",
    "def abs_diff(image1, image2):\n",
    "    image1 = image1.astype(np.float32)\n",
    "    image2 = image2.astype(np.float32)\n",
    "    return np.mean(np.abs(image1 - image2), axis=-1)\n",
    "\n",
    "\n",
    "blurred_images_cv = [gauss_cv(image, s) for s in sigmas]\n",
    "differences = [abs_diff(x, y) for x, y in zip(blurred_images, blurred_images_cv)]\n",
    "\n",
    "plot_multiple(blurred_images_cv, titles)\n",
    "plot_multiple(differences, titles)\n",
    "\n",
    "# Small differences (around 1-2) can be expected because of rounding\n",
    "# Mouse over the difference image and see the value in the corner in square brackets"
   ]
  },
  {
   "cell_type": "markdown",
   "metadata": {
    "deletable": false,
    "editable": false,
    "nbgrader": {
     "cell_type": "markdown",
     "checksum": "66be0daca7bb9a364262336854aee4e8",
     "grade": false,
     "grade_id": "cell-c31c64a0c62a5668",
     "locked": true,
     "schema_version": 3,
     "solution": false,
     "task": false
    }
   },
   "source": [
    "# Fourier transform\n",
    "\n",
    "In this part, we look at the effect of filtering in Fourier space.\n",
    "This gives us a different way of looking at images and yields deeper insights to what is going on when we apply a filter or downsample an image."
   ]
  },
  {
   "cell_type": "code",
   "execution_count": null,
   "metadata": {
    "deletable": false,
    "editable": false,
    "nbgrader": {
     "cell_type": "code",
     "checksum": "7117af003b3c1a6ab2e394f614f25582",
     "grade": false,
     "grade_id": "cell-ac80ddac488a1800",
     "locked": true,
     "schema_version": 3,
     "solution": false,
     "task": false
    }
   },
   "outputs": [],
   "source": [
    "# Some Convenience Functions.\n",
    "\n",
    "\n",
    "def imread_gray(filename):\n",
    "    \"\"\"Read grayscale image from our data directory.\"\"\"\n",
    "    return cv2.imread(filename, cv2.IMREAD_GRAYSCALE).astype(np.float32)\n",
    "\n",
    "\n",
    "def convolve_with_two(image, kernel1, kernel2):\n",
    "    \"\"\"Apply two filters, one after the other.\"\"\"\n",
    "    image = ndimage.convolve(image, kernel1, mode=\"wrap\")\n",
    "    image = ndimage.convolve(image, kernel2, mode=\"wrap\")\n",
    "    return image\n",
    "\n",
    "\n",
    "def fourier_spectrum(im):\n",
    "    normalized_im = im / np.sum(im)\n",
    "    f = np.fft.fft2(normalized_im)\n",
    "    return np.fft.fftshift(f)\n",
    "\n",
    "\n",
    "def log_magnitude_spectrum(im):\n",
    "    return np.log(np.abs(fourier_spectrum(im)) + 1e-8)\n",
    "\n",
    "\n",
    "def plot_with_spectra(images, titles):\n",
    "    \"\"\"Plots a list of images in the first column and the logarithm of their\n",
    "    magnitude spectrum in the second column.\"\"\"\n",
    "\n",
    "    assert len(images) == len(titles)\n",
    "    n_cols = 2\n",
    "    n_rows = len(images)\n",
    "    fig, axes = plt.subplots(n_rows, 2, figsize=(n_cols * 4, n_rows * 4), squeeze=False)\n",
    "\n",
    "    spectra = [log_magnitude_spectrum(im) for im in images]\n",
    "\n",
    "    lower = min(np.percentile(s, 0.1) for s in spectra)\n",
    "    upper = min(np.percentile(s, 99.999) for s in spectra)\n",
    "    normalizer = mpl.colors.Normalize(vmin=lower, vmax=upper)\n",
    "\n",
    "    for ax, image, spectrum, title in zip(axes, images, spectra, titles):\n",
    "        ax[0].imshow(image, cmap=\"gray\")\n",
    "        ax[0].set_title(title)\n",
    "        ax[0].set_axis_off()\n",
    "        c = ax[1].imshow(spectrum, norm=normalizer, cmap=\"viridis\")\n",
    "        ax[1].set_title(\"Log magnitude spectrum\")\n",
    "        ax[1].set_axis_off()\n",
    "\n",
    "    fig.tight_layout()\n",
    "\n",
    "\n",
    "def gauss(x, sigma):\n",
    "    return 1 / np.sqrt(2 * np.pi) / sigma * np.exp(-(x**2) / 2 / sigma**2)\n",
    "\n",
    "\n",
    "def generate_pattern():\n",
    "    x = np.linspace(0, 1, 256, endpoint=False)\n",
    "    y = np.sin(x**2 * 16 * np.pi)\n",
    "    return np.outer(y, y) / 2 + 0.5"
   ]
  },
  {
   "cell_type": "markdown",
   "metadata": {
    "deletable": false,
    "editable": false,
    "nbgrader": {
     "cell_type": "markdown",
     "checksum": "fb2784c8ac03177bc54dbd66540a3c68",
     "grade": false,
     "grade_id": "cell-238824fec0163e13",
     "locked": true,
     "schema_version": 3,
     "solution": false,
     "task": false
    }
   },
   "source": [
    "**Plotting demo:**\n",
    "This is how you can load example images and plot the logarithm of its magnitude spectrum.\n",
    "Low frequencies appear near the center and higher frequencies towards the outside.\n",
    "Greener (lighter) colors mean higher values. The color scale is consistent within the subplots of a single plot, but may differ in different plots."
   ]
  },
  {
   "cell_type": "code",
   "execution_count": null,
   "metadata": {
    "deletable": false,
    "editable": false,
    "nbgrader": {
     "cell_type": "code",
     "checksum": "bb26acde9d4a3509da5ae59a846e1f60",
     "grade": false,
     "grade_id": "cell-11e051f9c3539a1a",
     "locked": true,
     "schema_version": 3,
     "solution": false,
     "task": false
    }
   },
   "outputs": [],
   "source": [
    "im_grass = imread_gray(\"grass.jpg\")\n",
    "im_zebras = imread_gray(\"zebras.jpg\")\n",
    "im_pattern = generate_pattern()\n",
    "plot_with_spectra(\n",
    "    [im_grass, im_zebras, im_pattern], [\"Grass image\", \"Zebra image\", \"Pattern image\"]\n",
    ")"
   ]
  },
  {
   "cell_type": "markdown",
   "metadata": {
    "deletable": false,
    "editable": false,
    "nbgrader": {
     "cell_type": "markdown",
     "checksum": "e1ec0a71799e79dfb682f6f558f7d43a",
     "grade": false,
     "grade_id": "cell-35165fc62439f2eb",
     "locked": true,
     "schema_version": 3,
     "solution": false,
     "task": false
    }
   },
   "source": [
    "## Blurring\n",
    "\n",
    "Consider one of the images (`im_grass` is a good choice). Implement `filter_box(image, sigma)` that outputs the box-filtered version of `image`, using `convolve_with_two` (since the box filter is separable). Compute the size of the box filter as `size = int(round(sigma * 12**0.5))` (read [this paper](https://www.peterkovesi.com/papers/FastGaussianSmoothing.pdf) if you are interested in the math behind this formular). "
   ]
  },
  {
   "cell_type": "code",
   "execution_count": null,
   "metadata": {
    "deletable": false,
    "nbgrader": {
     "cell_type": "code",
     "checksum": "5424f97f4a6ab4e5e532dcbed7466c06",
     "grade": true,
     "grade_id": "cell-43b000bd1a7221ac",
     "locked": false,
     "points": 2,
     "schema_version": 3,
     "solution": true,
     "task": false
    }
   },
   "outputs": [],
   "source": [
    "# POINTS: 2\n",
    "\n",
    "def filter_box(image, sigma):\n",
    "    # YOUR CODE HERE\n",
    "    raise NotImplementedError()"
   ]
  },
  {
   "cell_type": "markdown",
   "metadata": {
    "deletable": false,
    "editable": false,
    "nbgrader": {
     "cell_type": "markdown",
     "checksum": "cdc60e23c33b6797092dea017058fb5f",
     "grade": false,
     "grade_id": "cell-5bb7238fdbeefd9a",
     "locked": true,
     "schema_version": 3,
     "solution": false,
     "task": false
    }
   },
   "source": [
    "Implement `filter_gauss(image, kernel_factor, sigma)` using `convolve_with_two`. The parameter `kernel_factor` defines the half size of the kernel relative to sigma (our rule of thumb from the lecture was to set this as 3)."
   ]
  },
  {
   "cell_type": "code",
   "execution_count": null,
   "metadata": {
    "deletable": false,
    "nbgrader": {
     "cell_type": "code",
     "checksum": "08668fc49fde7c2840f6a5616a189411",
     "grade": true,
     "grade_id": "cell-1981f61890f5181a",
     "locked": false,
     "points": 2,
     "schema_version": 3,
     "solution": true,
     "task": false
    }
   },
   "outputs": [],
   "source": [
    "# POINTS: 2\n",
    "\n",
    "def filter_gauss(image, kernel_factor, sigma):\n",
    "    # YOUR CODE HERE\n",
    "    raise NotImplementedError()"
   ]
  },
  {
   "cell_type": "markdown",
   "metadata": {
    "deletable": false,
    "editable": false,
    "nbgrader": {
     "cell_type": "markdown",
     "checksum": "5c34721f0ffc37de9afcb117de73fa58",
     "grade": false,
     "grade_id": "cell-d704e5f64a94cbf2",
     "locked": true,
     "schema_version": 3,
     "solution": false,
     "task": false
    }
   },
   "source": [
    "Plot the image and its blurred versions (with the box and the Gauss filter) along with their spectra using `plot_with_spectra()`. Vary the size of the box filter. What do you observe? For the Gaussian, change sigma.  What happens if you increase or decrease the `kernel_factor` compared to our rule-of-thumb value 3?"
   ]
  },
  {
   "cell_type": "code",
   "execution_count": null,
   "metadata": {
    "deletable": false,
    "editable": false,
    "nbgrader": {
     "cell_type": "code",
     "checksum": "04c27a483052ae04305ac4a3bb6e9edd",
     "grade": false,
     "grade_id": "cell-1aa436d30ba3add8",
     "locked": true,
     "schema_version": 3,
     "solution": false,
     "task": false
    }
   },
   "outputs": [],
   "source": [
    "sigma = 3\n",
    "im = im_grass\n",
    "gauss_filtered = filter_gauss(im, kernel_factor=6, sigma=sigma)\n",
    "box_filtered = filter_box(im, sigma=sigma)\n",
    "plot_with_spectra(\n",
    "    [im, box_filtered, gauss_filtered], [\"Image\", \"Box filtered\", \"Gauss filtered\"]\n",
    ")"
   ]
  },
  {
   "cell_type": "markdown",
   "metadata": {
    "deletable": false,
    "editable": false,
    "nbgrader": {
     "cell_type": "markdown",
     "checksum": "2ac62faac56dacf7932621e24a3a045e",
     "grade": false,
     "grade_id": "cell-50f9fb9f41c5eb8b",
     "locked": true,
     "schema_version": 3,
     "solution": false,
     "task": false
    }
   },
   "source": [
    "## Sampling and aliasing\n",
    "\n",
    "Implement a function `sample_with_gaps(image, period)`, where `period` is an integer and defines the distance between two sampled points in pixels. The output should have the same size as `image` but have zeros everywhere except at the sampled points, where it should be equal to `image`. For example if `period=2` then every second row and every second column of the image should be zero in the output.\n",
    "\n",
    "In addition, implement `sample_without_gaps(image, period)`, which is like `sample_with_gaps` but the output does not contain gaps (rows and columns of zeros) and therefore the output size is smaller.\n",
    "\n",
    "Hint: These two functions can easily be realized with Numpy indexing (see this [link](https://numpy.org/doc/stable/user/basics.indexing.html#basics-indexing) if you need an introduction). Do not use for-loop."
   ]
  },
  {
   "cell_type": "code",
   "execution_count": null,
   "metadata": {
    "deletable": false,
    "nbgrader": {
     "cell_type": "code",
     "checksum": "6a63b9ceedd9faaac7c6ff6134c89f3f",
     "grade": true,
     "grade_id": "cell-f92f92bffc11138c",
     "locked": false,
     "points": 2,
     "schema_version": 3,
     "solution": true,
     "task": false
    }
   },
   "outputs": [],
   "source": [
    "# POINTS: 2\n",
    "\n",
    "def sample_with_gaps(im, period):\n",
    "    # YOUR CODE HERE\n",
    "    raise NotImplementedError()\n",
    "\n",
    "\n",
    "def sample_without_gaps(im, period):\n",
    "    # YOUR CODE HERE\n",
    "    raise NotImplementedError()"
   ]
  },
  {
   "cell_type": "markdown",
   "metadata": {
    "deletable": false,
    "editable": false,
    "nbgrader": {
     "cell_type": "markdown",
     "checksum": "c7f169ce1d63c86fe3981650c4deed2c",
     "grade": false,
     "grade_id": "cell-4143fa3401e2b32a",
     "locked": true,
     "schema_version": 3,
     "solution": false,
     "task": false
    }
   },
   "source": [
    "Sample the `im_zebras` image with a period of 2 pixels and plot the original and sampled images along with their spectra. \n",
    "What effect do you see in the resulting magnitude spectrum, when sampling with or without gaps?"
   ]
  },
  {
   "cell_type": "code",
   "execution_count": null,
   "metadata": {
    "deletable": false,
    "editable": false,
    "nbgrader": {
     "cell_type": "code",
     "checksum": "f102116f1340e5a22d95749b5fc89e89",
     "grade": false,
     "grade_id": "cell-6a29223ac622161a",
     "locked": true,
     "schema_version": 3,
     "solution": false,
     "task": false
    }
   },
   "outputs": [],
   "source": [
    "N = 4\n",
    "im = im_zebras\n",
    "sampled_gaps = sample_with_gaps(im, N)\n",
    "sampled = sample_without_gaps(im, N)\n",
    "\n",
    "blurred = filter_gauss(im, kernel_factor=6, sigma=4)\n",
    "blurred_and_sampled_gaps = sample_with_gaps(blurred, N)\n",
    "blurred_and_sampled = sample_without_gaps(blurred, N)\n",
    "\n",
    "plot_with_spectra(\n",
    "    [im, sampled_gaps, sampled, blurred, blurred_and_sampled_gaps, blurred_and_sampled],\n",
    "    [\n",
    "        \"Original\",\n",
    "        \"Sampled (w/ gaps)\",\n",
    "        \"Sampled\",\n",
    "        \"Gauss blurred\",\n",
    "        \"Blurred and s. (w/ gaps)\",\n",
    "        \"Blurred and s.\",\n",
    "    ],\n",
    ")"
   ]
  },
  {
   "cell_type": "markdown",
   "metadata": {
    "deletable": false,
    "editable": false,
    "nbgrader": {
     "cell_type": "markdown",
     "checksum": "a86f5de7384201887fbca57d8fbb1d40",
     "grade": false,
     "grade_id": "cell-136813a8f3329a15",
     "locked": true,
     "schema_version": 3,
     "solution": false,
     "task": false
    }
   },
   "source": [
    "Consider the image `im_pattern` and sample it with a period of 4, 8 and 16 and plot the resulting spectra. What happens as you increase the sampling period?\n",
    "Now look at what happens when **Gaussian blurring** is applied before sampling, with different sigma values. Approximately what sigma do you need for avoiding artifacts when `period=16`?"
   ]
  },
  {
   "cell_type": "code",
   "execution_count": null,
   "metadata": {
    "deletable": false,
    "editable": false,
    "nbgrader": {
     "cell_type": "code",
     "checksum": "1fab57acb8fec48e11953465bc870654",
     "grade": false,
     "grade_id": "cell-6b1b6c93e615cf8b",
     "locked": true,
     "schema_version": 3,
     "solution": false,
     "task": false
    }
   },
   "outputs": [],
   "source": [
    "N = 16\n",
    "image = im_pattern\n",
    "downsampled_gaps = sample_with_gaps(im_pattern, N)\n",
    "downsampled = sample_without_gaps(im_pattern, N)\n",
    "\n",
    "blurred = filter_gauss(image, kernel_factor=6, sigma=12)\n",
    "blurred_and_downsampled_gaps = sample_with_gaps(blurred, N)\n",
    "blurred_and_downsampled = sample_without_gaps(blurred, N)\n",
    "\n",
    "plot_with_spectra(\n",
    "    [\n",
    "        im_pattern,\n",
    "        downsampled_gaps,\n",
    "        downsampled,\n",
    "        blurred,\n",
    "        blurred_and_downsampled_gaps,\n",
    "        blurred_and_downsampled,\n",
    "    ],\n",
    "    [\n",
    "        \"Original\",\n",
    "        \"Downsampled (w/ gaps)\",\n",
    "        \"Downsampled (no gaps)\",\n",
    "        \"Gauss blurred\",\n",
    "        \"Blurred and ds. (w/ gaps)\",\n",
    "        \"Blurred and downs. (no gaps)\",\n",
    "    ],\n",
    ")"
   ]
  },
  {
   "cell_type": "markdown",
   "metadata": {
    "deletable": false,
    "editable": false,
    "nbgrader": {
     "cell_type": "markdown",
     "checksum": "c1215909e887e4f9d38aa72f7eca883e",
     "grade": false,
     "grade_id": "cell-a4bfb21a75007804",
     "locked": true,
     "schema_version": 3,
     "solution": false,
     "task": false
    }
   },
   "source": [
    "# Image derivatives\n",
    "This task introduces image derivative operators."
   ]
  },
  {
   "cell_type": "code",
   "execution_count": null,
   "metadata": {
    "deletable": false,
    "editable": false,
    "nbgrader": {
     "cell_type": "code",
     "checksum": "f2964bd5ffbb787393b1f71f94fb051e",
     "grade": false,
     "grade_id": "cell-1c7181be91873cb0",
     "locked": true,
     "schema_version": 3,
     "solution": false,
     "task": false
    }
   },
   "outputs": [],
   "source": [
    "# Some Convenience Functions.\n",
    "\n",
    "\n",
    "def convolve_with_two(image, kernel1, kernel2):\n",
    "    \"\"\"Apply two filters, one after the other.\"\"\"\n",
    "    image = ndimage.convolve(image, kernel1)\n",
    "    image = ndimage.convolve(image, kernel2)\n",
    "    return image\n",
    "\n",
    "\n",
    "def imread_gray(filename):\n",
    "    \"\"\"Read grayscale image.\"\"\"\n",
    "    return cv2.imread(filename, cv2.IMREAD_GRAYSCALE).astype(np.float32)\n",
    "\n",
    "\n",
    "def plot_multiple(images, titles, colormap=\"gray\", max_columns=np.inf, share_axes=True):\n",
    "    \"\"\"Plot multiple images as subplots on a grid.\"\"\"\n",
    "    assert len(images) == len(titles)\n",
    "    n_images = len(images)\n",
    "    n_cols = min(max_columns, n_images)\n",
    "    n_rows = int(np.ceil(n_images / n_cols))\n",
    "    fig, axes = plt.subplots(\n",
    "        n_rows,\n",
    "        n_cols,\n",
    "        figsize=(n_cols * 4, n_rows * 4),\n",
    "        squeeze=False,\n",
    "        sharex=share_axes,\n",
    "        sharey=share_axes,\n",
    "    )\n",
    "\n",
    "    axes = axes.flat\n",
    "    # Hide subplots without content\n",
    "    for ax in axes[n_images:]:\n",
    "        ax.axis(\"off\")\n",
    "\n",
    "    if not isinstance(colormap, (list, tuple)):\n",
    "        colormaps = [colormap] * n_images\n",
    "    else:\n",
    "        colormaps = colormap\n",
    "\n",
    "    for ax, image, title, cmap in zip(axes, images, titles, colormaps):\n",
    "        ax.imshow(image, cmap=cmap)\n",
    "        ax.set_title(title)\n",
    "\n",
    "    fig.tight_layout()\n",
    "\n",
    "\n",
    "def gauss(x, sigma):\n",
    "    return 1.0 / np.sqrt(2.0 * np.pi) / sigma * np.exp(-(x**2) / 2.0 / sigma**2)"
   ]
  },
  {
   "cell_type": "markdown",
   "metadata": {
    "deletable": false,
    "editable": false,
    "nbgrader": {
     "cell_type": "markdown",
     "checksum": "49449ad6fe045b150ebbf01b29d62533",
     "grade": false,
     "grade_id": "cell-39746e8f4f9b43e4",
     "locked": true,
     "schema_version": 3,
     "solution": false,
     "task": false
    }
   },
   "source": [
    "Implement a function for creating a Gaussian derivative filter in 1D according to the following equation\n",
    "\\begin{eqnarray}\n",
    "    \\frac{d}{dx} G &=& \\frac{d}{dx} \\frac{1}{\\sqrt{2\\pi}\\sigma} \\operatorname{exp}\\biggl(-\\frac{x^2}{2\\sigma^2}\\biggr) \\\\\n",
    "\t\t\t       &=& -\\frac{1}{\\sqrt{2\\pi}\\sigma^3}x \\operatorname{exp}\\biggl(-\\frac{x^2}{2\\sigma^2}\\biggr)\n",
    "\\end{eqnarray}\n",
    "Your function should take a vector of integer values $x$ and the standard deviation ``sigma`` as arguments."
   ]
  },
  {
   "cell_type": "code",
   "execution_count": null,
   "metadata": {
    "deletable": false,
    "nbgrader": {
     "cell_type": "code",
     "checksum": "ec4ef2ee337d63da884f5caf8f20ca29",
     "grade": true,
     "grade_id": "cell-71bddd28f48b6637",
     "locked": false,
     "points": 1,
     "schema_version": 3,
     "solution": true,
     "task": false
    }
   },
   "outputs": [],
   "source": [
    "# POINTS: 1\n",
    "\n",
    "def gaussdx(x, sigma):\n",
    "    # YOUR CODE HERE\n",
    "    raise NotImplementedError()"
   ]
  },
  {
   "cell_type": "code",
   "execution_count": null,
   "metadata": {
    "deletable": false,
    "editable": false,
    "nbgrader": {
     "cell_type": "code",
     "checksum": "4113eae06fbdbc9cd044348f31ae7be9",
     "grade": false,
     "grade_id": "cell-1379d1cd8df1c39e",
     "locked": true,
     "schema_version": 3,
     "solution": false,
     "task": false
    }
   },
   "outputs": [],
   "source": [
    "x = np.linspace(-5, 5, 100)\n",
    "y = gaussdx(x, sigma=1.0)\n",
    "fig, ax = plt.subplots()\n",
    "ax.plot(x, y)\n",
    "fig.tight_layout()"
   ]
  },
  {
   "cell_type": "markdown",
   "metadata": {
    "deletable": false,
    "editable": false,
    "nbgrader": {
     "cell_type": "markdown",
     "checksum": "5439b304418fd2c5e3c73301d2874128",
     "grade": false,
     "grade_id": "cell-34bf4276c1d51139",
     "locked": true,
     "schema_version": 3,
     "solution": false,
     "task": false
    }
   },
   "source": [
    "The effect of a filter can be studied by observing its so-called *impulse response*.\n",
    "For this, create a test image in which only the central pixel has a non-zero value (called an *impulse*)."
   ]
  },
  {
   "cell_type": "code",
   "execution_count": null,
   "metadata": {
    "deletable": false,
    "nbgrader": {
     "cell_type": "code",
     "checksum": "61f7a63e383599f45843f3732e9f576b",
     "grade": true,
     "grade_id": "cell-d7885b56a66a5a1c",
     "locked": false,
     "points": 1,
     "schema_version": 3,
     "solution": true,
     "task": false
    }
   },
   "outputs": [],
   "source": [
    "# POINTS: 1\n",
    "\n",
    "def make_impulse_image(size=25):\n",
    "    # YOUR CODE HERE\n",
    "    raise NotImplementedError()\n",
    "    return impulse"
   ]
  },
  {
   "cell_type": "markdown",
   "metadata": {
    "deletable": false,
    "editable": false,
    "nbgrader": {
     "cell_type": "markdown",
     "checksum": "d31c2155df90ca44ee92848b7076aff9",
     "grade": false,
     "grade_id": "cell-ad35bac451f70fc8",
     "locked": true,
     "schema_version": 3,
     "solution": false,
     "task": false
    }
   },
   "source": [
    "What happens when you apply the following filter combinations on the impulse image?\n",
    "\n",
    "- first ``gaussian``, then ``gaussian^T``.\n",
    "- first ``gaussian``, then ``derivative^T``.\n",
    "- first ``derivative``, then ``gaussian^T``.\n",
    "- first ``gaussian^T``, then ``derivative``.\n",
    "- first ``derivative^T``, then ``gaussian``.\n",
    "\n",
    "Display the result images with the `plot_multiple` function. Describe your result."
   ]
  },
  {
   "cell_type": "code",
   "execution_count": null,
   "metadata": {
    "deletable": false,
    "editable": false,
    "nbgrader": {
     "cell_type": "code",
     "checksum": "77b4a6771de52c0afdfb3655daf59aab",
     "grade": false,
     "grade_id": "cell-77a0db55a8d16303",
     "locked": true,
     "schema_version": 3,
     "solution": false,
     "task": false
    }
   },
   "outputs": [],
   "source": [
    "# create kernels\n",
    "sigma = 6.0\n",
    "kernel_radius = int(3.0 * sigma)\n",
    "x = np.arange(-kernel_radius, kernel_radius + 1)[np.newaxis]\n",
    "G = gauss(x, sigma)\n",
    "D = gaussdx(x, sigma)\n",
    "\n",
    "impulse = make_impulse_image()\n",
    "images = [\n",
    "    impulse,\n",
    "    convolve_with_two(impulse, G, G.T),\n",
    "    convolve_with_two(impulse, G, D.T),\n",
    "    convolve_with_two(impulse, D, G.T),\n",
    "    convolve_with_two(impulse, G.T, D),\n",
    "    convolve_with_two(impulse, D.T, G),\n",
    "]\n",
    "\n",
    "titles = [\n",
    "    \"original\",\n",
    "    \"first G, then G^T\",\n",
    "    \"first G, then D^T\",\n",
    "    \"first D, then G^T\",\n",
    "    \"first G^T, then D\",\n",
    "    \"first D^T, then G\",\n",
    "]\n",
    "\n",
    "plot_multiple(images, titles, max_columns=3)"
   ]
  },
  {
   "cell_type": "markdown",
   "metadata": {
    "deletable": false,
    "editable": false,
    "nbgrader": {
     "cell_type": "markdown",
     "checksum": "78a5832a482d64a0a09a6ab24536b0e5",
     "grade": false,
     "grade_id": "cell-7f8518184518d54c",
     "locked": true,
     "schema_version": 3,
     "solution": false,
     "task": false
    }
   },
   "source": [
    "Create a new function ``gaussderiv`` using the functions ``gauss`` and ``gaussdx`` directly.\n",
    "The new function should return the 2D Gaussian derivatives of an input image in $x$ and $y$ direction.\n",
    "Try the function on the given example images."
   ]
  },
  {
   "cell_type": "code",
   "execution_count": null,
   "metadata": {
    "deletable": false,
    "nbgrader": {
     "cell_type": "code",
     "checksum": "2989fa368b55fbb422a204311065fec9",
     "grade": true,
     "grade_id": "cell-c1dbe176a9830345",
     "locked": false,
     "points": 2,
     "schema_version": 3,
     "solution": true,
     "task": false
    }
   },
   "outputs": [],
   "source": [
    "# POINTS: 2\n",
    "\n",
    "def gauss_derivs(image, sigma):\n",
    "    kernel_radius = int(3.0 * sigma)\n",
    "    # YOUR CODE HERE\n",
    "    raise NotImplementedError()\n",
    "    return image_dx, image_dy"
   ]
  },
  {
   "cell_type": "code",
   "execution_count": null,
   "metadata": {
    "deletable": false,
    "editable": false,
    "nbgrader": {
     "cell_type": "code",
     "checksum": "27637046b113db1edf4a3f51cab5daa2",
     "grade": false,
     "grade_id": "cell-6fe45fcf6e12d64a",
     "locked": true,
     "schema_version": 3,
     "solution": false,
     "task": false
    }
   },
   "outputs": [],
   "source": [
    "image = imread_gray(\"tomatoes.png\")\n",
    "grad_dx, grad_dy = gauss_derivs(image, sigma=5.0)\n",
    "plot_multiple(\n",
    "    [image, grad_dx, grad_dy],\n",
    "    [\"Image\", \"Derivative in x-direction\", \"Derivative in y-direction\"],\n",
    ")"
   ]
  },
  {
   "cell_type": "markdown",
   "metadata": {
    "deletable": false,
    "editable": false,
    "nbgrader": {
     "cell_type": "markdown",
     "checksum": "7f99fe94c98ec25663e0abb82270dd7c",
     "grade": false,
     "grade_id": "cell-da7b0c6b2b37e752",
     "locked": true,
     "schema_version": 3,
     "solution": false,
     "task": false
    }
   },
   "source": [
    "In a similar manner, create a new function ``gauss_second_derivs`` that returns the 2D second Gaussian derivatives $\\frac{d^2}{dx^2}$, $\\frac{d^2}{dx dy}$ and $\\frac{d^2}{dy^2}$ of an input image.\n",
    "Try the function on the given example images."
   ]
  },
  {
   "cell_type": "code",
   "execution_count": null,
   "metadata": {
    "deletable": false,
    "nbgrader": {
     "cell_type": "code",
     "checksum": "4ad8793b79f64cb0f12e963d712fc300",
     "grade": true,
     "grade_id": "cell-fca3722dfbb99335",
     "locked": false,
     "points": 2,
     "schema_version": 3,
     "solution": true,
     "task": false
    }
   },
   "outputs": [],
   "source": [
    "# POINTS: 2\n",
    "\n",
    "def gauss_second_derivs(image, sigma):\n",
    "    kernel_radius = int(3.0 * sigma)\n",
    "    # YOUR CODE HERE\n",
    "    raise NotImplementedError()\n",
    "\n",
    "    return image_dxx, image_dxy, image_dyy"
   ]
  },
  {
   "cell_type": "code",
   "execution_count": null,
   "metadata": {
    "deletable": false,
    "editable": false,
    "nbgrader": {
     "cell_type": "code",
     "checksum": "4394002f6e7ba85c7b9a9d3b4301108e",
     "grade": false,
     "grade_id": "cell-be82eed8ce4f65e7",
     "locked": true,
     "schema_version": 3,
     "solution": false,
     "task": false
    }
   },
   "outputs": [],
   "source": [
    "image = imread_gray(\"coins1.jpg\")\n",
    "grad_dxx, grad_dxy, grad_dyy = gauss_second_derivs(image, sigma=2.0)\n",
    "plot_multiple([image, grad_dxx, grad_dxy, grad_dyy], [\"Image\", \"Dxx\", \"Dxy\", \"Dyy\"])"
   ]
  },
  {
   "cell_type": "code",
   "execution_count": null,
   "metadata": {
    "deletable": false,
    "editable": false,
    "nbgrader": {
     "cell_type": "code",
     "checksum": "08294312192bcdc90e125372065a2f3a",
     "grade": false,
     "grade_id": "cell-0373b64aef70468d",
     "locked": true,
     "schema_version": 3,
     "solution": false,
     "task": false
    }
   },
   "outputs": [],
   "source": [
    "image = imread_gray(\"circuit.png\")\n",
    "grad_dxx, grad_dxy, grad_dyy = gauss_second_derivs(image, sigma=2.0)\n",
    "plot_multiple([image, grad_dxx, grad_dxy, grad_dyy], [\"Image\", \"Dxx\", \"Dxy\", \"Dyy\"])"
   ]
  },
  {
   "cell_type": "markdown",
   "metadata": {
    "deletable": false,
    "editable": false,
    "nbgrader": {
     "cell_type": "markdown",
     "checksum": "79cf6bb3a2de41f85b8747f3fa5cb3f4",
     "grade": false,
     "grade_id": "cell-0f5dcc0ab061ce88",
     "locked": true,
     "schema_version": 3,
     "solution": false,
     "task": false
    }
   },
   "source": [
    "Create a new function ``image_gradients_polar`` that returns two images with the magnitude and orientation of the gradient for each pixel of the input image. Try the function on the given example images."
   ]
  },
  {
   "cell_type": "code",
   "execution_count": null,
   "metadata": {
    "deletable": false,
    "nbgrader": {
     "cell_type": "code",
     "checksum": "7448d5ff5f9c2cc75d83766f4875cf68",
     "grade": true,
     "grade_id": "cell-8a07e53b0fe692ef",
     "locked": false,
     "points": 2,
     "schema_version": 3,
     "solution": true,
     "task": false
    }
   },
   "outputs": [],
   "source": [
    "# POINTS: 2\n",
    "\n",
    "def image_gradients_polar(image, sigma):\n",
    "    # YOUR CODE HERE\n",
    "    raise NotImplementedError()\n",
    "    return magnitude, direction"
   ]
  },
  {
   "cell_type": "code",
   "execution_count": null,
   "metadata": {
    "deletable": false,
    "editable": false,
    "nbgrader": {
     "cell_type": "code",
     "checksum": "40a8e350467556fc0138f6dd6a71592e",
     "grade": false,
     "grade_id": "cell-ad307dea6bdf344c",
     "locked": true,
     "schema_version": 3,
     "solution": false,
     "task": false
    }
   },
   "outputs": [],
   "source": [
    "image = imread_gray(\"coins1.jpg\")\n",
    "grad_mag, grad_dir = image_gradients_polar(image, sigma=2.0)\n",
    "\n",
    "# Note: the twilight colormap only works since Matplotlib 3.0, use 'gray' in earlier versions.\n",
    "plot_multiple(\n",
    "    [image, grad_mag, grad_dir],\n",
    "    [\"Image\", \"Magnitude\", \"Direction\"],\n",
    "    colormap=[\"gray\", \"gray\", \"twilight\"],\n",
    ")"
   ]
  },
  {
   "cell_type": "code",
   "execution_count": null,
   "metadata": {
    "deletable": false,
    "editable": false,
    "nbgrader": {
     "cell_type": "code",
     "checksum": "d01348c1ee89ff7a19a01ae5afc07424",
     "grade": false,
     "grade_id": "cell-12e886a64c8182ea",
     "locked": true,
     "schema_version": 3,
     "solution": false,
     "task": false
    }
   },
   "outputs": [],
   "source": [
    "image = imread_gray(\"circuit.png\")\n",
    "grad_mag, grad_theta = image_gradients_polar(image, sigma=2.0)\n",
    "plot_multiple(\n",
    "    [image, grad_mag, grad_theta],\n",
    "    [\"Image\", \"Magnitude\", \"Direction\"],\n",
    "    colormap=[\"gray\", \"gray\", \"twilight\"],\n",
    ")"
   ]
  },
  {
   "cell_type": "markdown",
   "metadata": {
    "deletable": false,
    "editable": false,
    "nbgrader": {
     "cell_type": "markdown",
     "checksum": "f1a1686c753789b0ae57d36f563ddf1d",
     "grade": false,
     "grade_id": "cell-a8c41842a29b1a10",
     "locked": true,
     "schema_version": 3,
     "solution": false,
     "task": false
    }
   },
   "source": [
    "Create a new function ``laplace`` that returns an image with the Laplacian-of-Gaussian for each pixel of the input image.\n",
    "Try the function on the given example images"
   ]
  },
  {
   "cell_type": "code",
   "execution_count": null,
   "metadata": {
    "deletable": false,
    "nbgrader": {
     "cell_type": "code",
     "checksum": "6e5f1ad4dd953fcff4adc56b59d39500",
     "grade": true,
     "grade_id": "cell-9cc2af0d4458b852",
     "locked": false,
     "points": 2,
     "schema_version": 3,
     "solution": true,
     "task": false
    }
   },
   "outputs": [],
   "source": [
    "# POINTS: 2\n",
    "\n",
    "def laplace(image, sigma):\n",
    "    # YOUR CODE HERE\n",
    "    raise NotImplementedError()"
   ]
  },
  {
   "cell_type": "code",
   "execution_count": null,
   "metadata": {
    "deletable": false,
    "editable": false,
    "nbgrader": {
     "cell_type": "code",
     "checksum": "05f9937bedd86463cbfa1526de1f546b",
     "grade": false,
     "grade_id": "cell-3b5f255c2c0514be",
     "locked": true,
     "schema_version": 3,
     "solution": false,
     "task": false
    }
   },
   "outputs": [],
   "source": [
    "image = imread_gray(\"coins1.jpg\")\n",
    "lap = laplace(image, sigma=2.0)\n",
    "plot_multiple([image, lap], [\"Image\", \"Laplace\"])"
   ]
  },
  {
   "cell_type": "code",
   "execution_count": null,
   "metadata": {
    "deletable": false,
    "editable": false,
    "nbgrader": {
     "cell_type": "code",
     "checksum": "b018869398b32a86106c252de2cd90a0",
     "grade": false,
     "grade_id": "cell-7a60badcc5c219f5",
     "locked": true,
     "schema_version": 3,
     "solution": false,
     "task": false
    }
   },
   "outputs": [],
   "source": [
    "image = imread_gray(\"circuit.png\")\n",
    "lap = laplace(image, sigma=2.0)\n",
    "plot_multiple([image, lap], [\"Image\", \"Laplace\"])"
   ]
  },
  {
   "cell_type": "markdown",
   "metadata": {
    "deletable": false,
    "editable": false,
    "nbgrader": {
     "cell_type": "markdown",
     "checksum": "c22301fa4417b6c56c2404dfb1538211",
     "grade": false,
     "grade_id": "cell-b3e2563c16cf27fa",
     "locked": true,
     "schema_version": 3,
     "solution": false,
     "task": false
    }
   },
   "source": [
    "# Edge detection\n",
    "In this part we will create a simple edge detector. \n",
    "\n",
    "**Note:** you will need `gauss_derivs` and `image_gradients_polar` functions from the task \"Image derivatives\". "
   ]
  },
  {
   "cell_type": "code",
   "execution_count": null,
   "metadata": {
    "deletable": false,
    "editable": false,
    "nbgrader": {
     "cell_type": "code",
     "checksum": "ccf7e924351833c18269cba3045e5721",
     "grade": false,
     "grade_id": "cell-cabb22b059dab5b6",
     "locked": true,
     "schema_version": 3,
     "solution": false,
     "task": false
    }
   },
   "outputs": [],
   "source": [
    "# Some convenience functions.\n",
    "\n",
    "\n",
    "def convolve_with_two(image, kernel1, kernel2):\n",
    "    \"\"\"Apply two filters, one after the other.\"\"\"\n",
    "    image = ndimage.convolve(image, kernel1)\n",
    "    image = ndimage.convolve(image, kernel2)\n",
    "    return image\n",
    "\n",
    "\n",
    "def plot_multiple(\n",
    "    images, titles, colormap=\"gray\", max_columns=np.inf, imsize=4, share_axes=True\n",
    "):\n",
    "    \"\"\"Plot multiple images as subplots on a grid.\"\"\"\n",
    "    assert len(images) == len(titles)\n",
    "    n_images = len(images)\n",
    "    n_cols = min(max_columns, n_images)\n",
    "    n_rows = int(np.ceil(n_images / n_cols))\n",
    "    fig, axes = plt.subplots(\n",
    "        n_rows,\n",
    "        n_cols,\n",
    "        figsize=(n_cols * imsize, n_rows * imsize),\n",
    "        squeeze=False,\n",
    "        sharex=share_axes,\n",
    "        sharey=share_axes,\n",
    "    )\n",
    "\n",
    "    axes = axes.flat\n",
    "    # Hide subplots without content\n",
    "    for ax in axes[n_images:]:\n",
    "        ax.axis(\"off\")\n",
    "\n",
    "    if not isinstance(colormap, (list, tuple)):\n",
    "        colormaps = [colormap] * n_images\n",
    "    else:\n",
    "        colormaps = colormap\n",
    "\n",
    "    for ax, image, title, cmap in zip(axes, images, titles, colormaps):\n",
    "        ax.imshow(image, cmap=cmap)\n",
    "        ax.set_title(title)\n",
    "\n",
    "    fig.tight_layout()"
   ]
  },
  {
   "cell_type": "markdown",
   "metadata": {
    "deletable": false,
    "editable": false,
    "nbgrader": {
     "cell_type": "markdown",
     "checksum": "965392cefe95b9a76c95881cb79bf401",
     "grade": false,
     "grade_id": "cell-2ea92cf0cfae0e48",
     "locked": true,
     "schema_version": 3,
     "solution": false,
     "task": false
    }
   },
   "source": [
    "Write a function ``get_edges`` that returns a binary image ``edge`` from an input image where the color of each pixel $p$ is selected as follows (for a given threshold ``theta``):\n",
    "\\begin{eqnarray}\n",
    "    p &=&\n",
    "    \\begin{cases}\n",
    "        1, &\\text{ if }\\left|\\operatorname{grad}(\\mathtt{img})\\right|(p) \\geq \\theta\\\\\n",
    "        0, &\\text{ else}\n",
    "    \\end{cases}\n",
    "\\end{eqnarray}\n",
    "Experiment with the function ``get_edges`` on the example images.\n",
    "Try to get good edge images for different values of ``sigma``.\n",
    "What difficulties do you observe when selecting ``sigma`` and ``theta``?"
   ]
  },
  {
   "cell_type": "code",
   "execution_count": null,
   "metadata": {
    "deletable": false,
    "nbgrader": {
     "cell_type": "code",
     "checksum": "ef2bb80cab235206399c1852f4597014",
     "grade": true,
     "grade_id": "cell-95fbcbccfc0fc900",
     "locked": false,
     "points": 1,
     "schema_version": 3,
     "solution": true
    }
   },
   "outputs": [],
   "source": [
    "# POINTS: 1\n",
    "\n",
    "def get_edges(image, sigma, theta):\n",
    "    # YOUR CODE HERE\n",
    "    raise NotImplementedError()"
   ]
  },
  {
   "cell_type": "code",
   "execution_count": null,
   "metadata": {
    "deletable": false,
    "editable": false,
    "nbgrader": {
     "cell_type": "code",
     "checksum": "632173f8665255addf8f93150dd97f07",
     "grade": false,
     "grade_id": "cell-d070956bd54e5d5e",
     "locked": true,
     "schema_version": 3,
     "solution": false,
     "task": false
    }
   },
   "outputs": [],
   "source": [
    "color_im = iio.imread(\"gantrycrane.png\")\n",
    "gray_im = cv2.cvtColor(color_im, cv2.COLOR_RGB2GRAY).astype(np.float32)\n",
    "plot_multiple([gray_im], [\"Image\"])\n",
    "\n",
    "sigmas = [1, 2]\n",
    "thetas = [1, 2, 5, 10, 20, 40, 60]\n",
    "\n",
    "images = []\n",
    "titles = []\n",
    "for sigma in sigmas:\n",
    "    for theta in thetas:\n",
    "        edges = get_edges(gray_im, sigma, theta)\n",
    "        images.append(edges)\n",
    "        titles.append(f\"sigma={sigma}, theta={theta}\")\n",
    "\n",
    "plot_multiple(images, titles, max_columns=7, imsize=2)"
   ]
  },
  {
   "cell_type": "markdown",
   "metadata": {
    "deletable": false,
    "editable": false,
    "nbgrader": {
     "cell_type": "markdown",
     "checksum": "fea894a5e07cc3383cd00ce7d694debd",
     "grade": false,
     "grade_id": "cell-ab02a80995f9c982",
     "locked": true,
     "schema_version": 3,
     "solution": false,
     "task": false
    }
   },
   "source": [
    "Using the above function, returned edges are still several pixels wide.\n",
    "In practice, this is often not desired.\n",
    "Create a function ``get_edges_with_nms`` that extends ``get_edges`` by using the following function to suppress non-maximum points along the gradient direction.\n",
    "\n",
    "Note that this simplified code does not interpolate between the neighboring pixel values in order to look up the real magnitude samples along the gradient direction.\n",
    "This interpolation is crucial to obtain the necessary robustness for an actual implementation.\n",
    "Here it was left out for better readability, since the interpolation involves some extra effort in order to deal with all special cases (e.g. exactly horizontal or vertical gradients).\n",
    "If you feel motivated, you can try to add this step to make the function more robust."
   ]
  },
  {
   "cell_type": "code",
   "execution_count": null,
   "metadata": {
    "deletable": false,
    "nbgrader": {
     "cell_type": "code",
     "checksum": "2d004a1dbc1fc88b7aee7329f90a419a",
     "grade": true,
     "grade_id": "cell-965edb7fde929842",
     "locked": false,
     "points": 4,
     "schema_version": 3,
     "solution": true
    }
   },
   "outputs": [],
   "source": [
    "# POINTS: 4\n",
    "\n",
    "def nms_for_canny(grad_mag, grad_dir):\n",
    "    result = np.zeros_like(grad_mag)\n",
    "\n",
    "    # Pre-define pixel index offset along different orientation\n",
    "    offsets_x = [-1, -1, 0, 1, 1, 1, 0, -1, -1]\n",
    "    offsets_y = [0, -1, -1, -1, 0, 1, 1, 1, 0]\n",
    "    height, width = grad_mag.shape\n",
    "    for y in range(1, height - 1):\n",
    "        for x in range(1, width - 1):\n",
    "            # YOUR CODE HERE\n",
    "            raise NotImplementedError()\n",
    "\n",
    "    return result"
   ]
  },
  {
   "cell_type": "markdown",
   "metadata": {
    "deletable": false,
    "editable": false,
    "nbgrader": {
     "cell_type": "markdown",
     "checksum": "f1bc1f1b5d85e0866b469dd300cf69e1",
     "grade": false,
     "grade_id": "cell-ac06d7d2d7e2a14a",
     "locked": true,
     "schema_version": 3,
     "solution": false,
     "task": false
    }
   },
   "source": [
    "Another problem is that suitable values for ``theta`` may vary substantially between images.\n",
    "Extend the function ``get_edges_with_nms`` such that the threshold $\\theta \\in [0,1]$ is defined relative to the maximal gradient magnitude value in the image."
   ]
  },
  {
   "cell_type": "code",
   "execution_count": null,
   "metadata": {
    "deletable": false,
    "nbgrader": {
     "cell_type": "code",
     "checksum": "a91c4265e8b4ebf60b933e318c745d3e",
     "grade": true,
     "grade_id": "cell-1b4393e5c8f86359",
     "locked": false,
     "points": 1,
     "schema_version": 3,
     "solution": true
    }
   },
   "outputs": [],
   "source": [
    "# POINTS: 1\n",
    "\n",
    "def get_edges_with_nms(image, sigma, theta):\n",
    "    # YOUR CODE HERE\n",
    "    raise NotImplementedError()"
   ]
  },
  {
   "cell_type": "code",
   "execution_count": null,
   "metadata": {
    "deletable": false,
    "editable": false,
    "nbgrader": {
     "cell_type": "code",
     "checksum": "5ede21f7e1da7296c351c4efc4d69b72",
     "grade": false,
     "grade_id": "cell-f5e1b6aadc2c43ab",
     "locked": true,
     "schema_version": 3,
     "solution": false,
     "task": false
    }
   },
   "outputs": [],
   "source": [
    "edges1 = get_edges(gray_im, sigma=2, theta=5)\n",
    "edges2 = get_edges_with_nms(\n",
    "    gray_im, sigma=2, theta=0.17\n",
    ")  # 0.17 corresponds to an absolute threshold of 5\n",
    "\n",
    "plot_multiple([edges1, edges2], [\"get_edges\", \"get_edges_with_nms\"], imsize=6)"
   ]
  },
  {
   "cell_type": "markdown",
   "metadata": {
    "deletable": false,
    "editable": false,
    "nbgrader": {
     "cell_type": "markdown",
     "checksum": "2ab7884326f4aebcc5b60aad2d26defe",
     "grade": false,
     "grade_id": "cell-7cd40ea6cb6e4c80",
     "locked": true,
     "schema_version": 3,
     "solution": false,
     "task": false
    }
   },
   "source": [
    "The function ``get_edges`` you implemented is a simplified version of the Canny edge detection pipeline.\n",
    "The main step that is still missing is the edge following with hysteresis thresholding.\n",
    "The idea here is that instead of applying a single threshold over the entire image, the edge detector works with two different thresholds ``theta_high`` and ``theta_low``.\n",
    "It starts with an edge pixel with a value above ``theta_high`` and then follows the contour in the direction orthogonal to the gradient until the pixel value falls below ``theta_low``.\n",
    "Each pixel visited along the way is labeled as an edge.\n",
    "The procedure is repeated until no further pixel above ``theta_high`` remains.\n",
    "\n",
    "Try writing a function ``my_canny`` that implements this procedure.\n",
    "Don't worry about efficiency for the moment.\n",
    "You may use the provided function skeleton to help you get started but can also start from scratch. The following hints may help you:\n",
    "- You can create a boolean array ``visited`` for already visited and yet-to-visit image pixels. Since we are not interested in pixels below the low threshold you can mark them as visited. In another boolean array you can flag the pixels that serve as starting points for line following.\n",
    "- You can also avoid having to deal with special cases along the image borders by creating a 1-pixel boundary where the ``visited`` flag is set to ``true``.\n",
    "- The actual edge following part is most easily implemented as a recursive procedure. In most cases, you will have the option to choose between several possible continuation points. Again, the easiest way is to try all of them in sequence (or even all 8 neighbors) and let the recursive procedure (together with the ``visited`` flags) do the rest."
   ]
  },
  {
   "cell_type": "code",
   "execution_count": null,
   "metadata": {
    "deletable": false,
    "nbgrader": {
     "cell_type": "code",
     "checksum": "7fa3a0a7762657b7ec921c0439fa6e91",
     "grade": true,
     "grade_id": "cell-3ad713f1d3f174ac",
     "locked": false,
     "points": 5,
     "schema_version": 3,
     "solution": true
    }
   },
   "outputs": [],
   "source": [
    "# POINTS: 5\n",
    "\n",
    "def my_canny(image, sigma, theta_low, theta_high):\n",
    "    # Compute gradient, apply non-maximum suppression\n",
    "    # YOUR CODE HERE\n",
    "    raise NotImplementedError()\n",
    "\n",
    "    # Compute absolute threshold relative to max value\n",
    "    max_val = np.max(grad_mag)\n",
    "    theta_low_abs = theta_low * max_val\n",
    "    theta_high_abs = theta_high * max_val\n",
    "\n",
    "    # Initialize flags\n",
    "    # Declare all pixels below the low threshold as visited\n",
    "    # so edges are not followed there\n",
    "    visited = grad_mag < theta_low_abs\n",
    "\n",
    "    # Mark boundary pixels as visited\n",
    "    visited[:, 0] = 1\n",
    "    visited[:, -1] = 1\n",
    "    visited[0, :] = 1\n",
    "    visited[-1, :] = 1\n",
    "\n",
    "    # Output image\n",
    "    image_out = np.zeros_like(image)\n",
    "\n",
    "    def follow_edge(x, y):\n",
    "        visited[y, x] = True\n",
    "        image_out[y, x] = 255\n",
    "\n",
    "        # Pre-define pixel index offset along different orientation\n",
    "        offsets_x = [-1, -1, 0, 1, 1, 1, 0, -1]\n",
    "        offsets_y = [0, -1, -1, -1, 0, 1, 1, 1]\n",
    "\n",
    "        for ox, oy in zip(offsets_x, offsets_y):\n",
    "            # Note: `visited` is already False for points\n",
    "            # below the low threshold.\n",
    "\n",
    "            # YOUR CODE HERE\n",
    "            raise NotImplementedError()\n",
    "\n",
    "    is_high = grad_mag >= theta_high_abs\n",
    "    # Main loop\n",
    "    for x in range(image.shape[1]):\n",
    "        for y in range(image.shape[0]):\n",
    "            # YOUR CODE HERE\n",
    "            raise NotImplementedError()\n",
    "\n",
    "    return image_out"
   ]
  },
  {
   "cell_type": "markdown",
   "metadata": {
    "deletable": false,
    "editable": false,
    "nbgrader": {
     "cell_type": "markdown",
     "checksum": "6a486a36f269fcc3da04f1a11b1cec9a",
     "grade": false,
     "grade_id": "cell-b55b3242045db9da",
     "locked": true,
     "schema_version": 3,
     "solution": false,
     "task": false
    }
   },
   "source": [
    "OpenCV provides a built-in function that implements the Canny edge detector.\n",
    "https://docs.opencv.org/3.4/da/d5c/tutorial_canny_detector.html\n",
    "Try ``cv2.Canny`` on the provided example images and compare the results to those of your implementation.\n",
    "Note: the implementation of ``cv2.Canny`` does not include blurring the image as we did.\n",
    "So apply ``cv2.GaussianBlur`` on the image, before passing it to ``cv2.Canny``."
   ]
  },
  {
   "cell_type": "code",
   "execution_count": null,
   "metadata": {
    "deletable": false,
    "editable": false,
    "nbgrader": {
     "cell_type": "code",
     "checksum": "976d2a1173a2161357ef0e3a6ac73a93",
     "grade": false,
     "grade_id": "cell-b9b3bf2a1933c1c2",
     "locked": true,
     "schema_version": 3,
     "solution": false,
     "task": false
    }
   },
   "outputs": [],
   "source": [
    "edge_canny = my_canny(gray_im, sigma=2, theta_low=0.1, theta_high=0.3)\n",
    "\n",
    "blurred_cv = cv2.GaussianBlur(gray_im, ksize=(7, 7), sigmaX=2)\n",
    "edge_canny_cv = cv2.Canny(blurred_cv.astype(np.uint8), 39, 72, L2gradient=True).astype(\n",
    "    np.float32\n",
    ")\n",
    "\n",
    "plot_multiple(\n",
    "    [edge_canny, edge_canny_cv, edge_canny - edge_canny_cv],\n",
    "    [\"my_canny\", \"cv2.Canny\", \"Difference\"],\n",
    "    imsize=5,\n",
    ")"
   ]
  },
  {
   "cell_type": "markdown",
   "metadata": {
    "deletable": false,
    "editable": false,
    "nbgrader": {
     "cell_type": "markdown",
     "checksum": "7ba0f31c6ef38ee3a534d7f1da3f2c5f",
     "grade": false,
     "grade_id": "cell-87f269175d23ffe8",
     "locked": true,
     "schema_version": 3,
     "solution": false,
     "task": false
    }
   },
   "source": [
    "## [OPTIONAL] Improved edge detector\n",
    "This solution gives better results, but its results still depend strongly on the maximal gradient magnitude value in the image.\n",
    "For a cleaner solution, we want to adapt the threshold to the distribution of all gradient magnitude values, such that we can directly control the number of edge pixels we get.\n",
    "Extend the function `get_edges` by the following steps in order to do this:\n",
    "\n",
    "- Perform non-maximum suppression on the gradient magnitude image as shown above.\n",
    "- Transform the result image into a vector.\n",
    "- Build a histogram of the remaining gradient magnitude values.\n",
    "- Compute the cumulative sum over the histogram (except for the first cell).\n",
    "- The last cell of the cumulative histogram now contains the total number of edge pixels in the image, `num_total_edge_pixels`. Compute the desired number of edge pixels `num_desired_edge_pixels` as the percentage `theta` of `num_total_edge_pixels`.\n",
    "- Find the threshold for which the cumulative histogram contains the value `num_desired_edge_pixels`."
   ]
  },
  {
   "cell_type": "code",
   "execution_count": null,
   "metadata": {
    "deletable": false,
    "nbgrader": {
     "cell_type": "code",
     "checksum": "2645afa6cd0f44df6842a328481f2657",
     "grade": true,
     "grade_id": "cell-3dfd1f9031772205",
     "locked": false,
     "points": 0,
     "schema_version": 3,
     "solution": true,
     "task": false
    }
   },
   "outputs": [],
   "source": [
    "# YOUR CODE HERE\n",
    "raise NotImplementedError()"
   ]
  },
  {
   "cell_type": "markdown",
   "metadata": {},
   "source": [
    "# Hough transform\n",
    "\n",
    "In this task, we will implement a Hough transform in order to detect parametric curves, such as lines or circles.\n",
    "In the following, we shortly review the motivation for this technique.\n",
    "\n",
    "Consider the point $p=(\\mathtt{x},\\mathtt{y})$ and the equation for a line $y = mx+c$. What are the lines that could pass through $p$?\n",
    "The answer is simple: all the lines for which $m$ and $c$ satisfy $\\mathtt{y} = m\\mathtt{x}+c$.\n",
    "Regarding $(\\mathtt{x},\\mathtt{y})$ as fixed, the last equation is that of a line in $(m,c)$-space.\n",
    "Repeating this reasoning, a second point $p'=(\\mathtt{x}',\\mathtt{y}')$ will also have an associated line in parameter space, and the two lines will intersect at the point $(\\tilde{m},\\tilde{c})$, which corresponds to the line connecting $p$ and $p'$.\n",
    "\n",
    "In order to find lines in the input image, we can thus pursue the following approach.\n",
    "We start with an empty accumulator array quantizing the parameter space for $m$ and $c$.\n",
    "For each edge pixel in the input image, we then draw a line in the accumulator array and increment the corresponding cells.\n",
    "Edge pixels on the same line in the input image will produce intersecting lines in $(m,c)$-space and will thus reinforce the intersection point.\n",
    "Maxima in this array thus correspond to lines in the input image that many edge pixels agree on.\n",
    "\n",
    "In practice, the parametrization in terms of $m$ and $c$ is problematic, since the slope $m$ may become infinite.\n",
    "Instead, we use the following parametrization in polar coordinates:\n",
    "\\begin{equation}\n",
    "\t\\mathtt{x}\\cos\\theta + \\mathtt{y}\\sin\\theta = \\rho \\label{eq:hough_line}\n",
    "\\end{equation}\n",
    "This produces a sinusoidal curve in $(\\rho,\\theta)$-space, but otherwise the procedure is unchanged.\n",
    "\n",
    "The following sub-questions will guide you through the steps of building a Hough transform.\n",
    "\n",
    "## Hough voting\n",
    "Build up an accumulator array ``acc`` for the parameter space $(\\rho, \\theta)$. $\\theta$ ranges from $-\\pi/2$ to $\\pi/2$, and $\\rho$ ranges from $-D$ to $D$, where $D$ denotes the length of the image diagonal.\n",
    "Use ``n_bins_rho`` and ``n_bins_theta`` as the number of bins in each direction.\n",
    "Initially, the array should be filled with zeros.\n",
    "\n",
    "For each edge pixel in the input image, create the corresponding curve in $(\\rho, \\theta)$ space by evaluating above line equation for all values of $\\theta$ and incrementing the corresponding cells of the accumulator array."
   ]
  },
  {
   "cell_type": "code",
   "execution_count": null,
   "metadata": {
    "deletable": false,
    "nbgrader": {
     "cell_type": "code",
     "checksum": "c5cfc5b3c952c0d068b79cff68cefcd4",
     "grade": true,
     "grade_id": "cell-200580483b10b07d",
     "locked": false,
     "points": 5,
     "schema_version": 3,
     "solution": true
    }
   },
   "outputs": [],
   "source": [
    "# POINTS: 5\n",
    "\n",
    "def hough_transform(edge_image, n_bins_rho, n_bins_theta):\n",
    "    # Vote accumulator\n",
    "    votes = np.zeros((n_bins_rho, n_bins_theta), dtype=np.int32)\n",
    "\n",
    "    # Create bins\n",
    "    diag = np.linalg.norm(edge_image.shape)  # Length of image diagonal\n",
    "    theta_bins = np.linspace(-np.pi / 2, np.pi / 2, n_bins_theta)\n",
    "    rho_bins = np.linspace(-diag, diag, n_bins_rho)\n",
    "\n",
    "    # YOUR CODE HERE\n",
    "    raise NotImplementedError()\n",
    "    return votes, rho_bins, theta_bins"
   ]
  },
  {
   "cell_type": "markdown",
   "metadata": {
    "deletable": false,
    "editable": false,
    "nbgrader": {
     "cell_type": "markdown",
     "checksum": "12f641af8d0a2c9148fdf12a97d39e25",
     "grade": false,
     "grade_id": "cell-15119e3e172dac46",
     "locked": true,
     "schema_version": 3,
     "solution": false,
     "task": false
    }
   },
   "source": [
    "Now we can test the implementation on an example image and visualize the resulting Hough space by displaying it as a 2D image."
   ]
  },
  {
   "cell_type": "code",
   "execution_count": null,
   "metadata": {
    "deletable": false,
    "editable": false,
    "nbgrader": {
     "cell_type": "code",
     "checksum": "283b99f809e5840b4e257fad9a79c77d",
     "grade": false,
     "grade_id": "cell-a79abef7726b3a67",
     "locked": true,
     "schema_version": 3,
     "solution": false,
     "task": false
    }
   },
   "outputs": [],
   "source": [
    "color_im = iio.imread(\"gantrycrane.png\")\n",
    "gray_im = cv2.cvtColor(color_im, cv2.COLOR_RGB2GRAY)\n",
    "\n",
    "# Get edges using Canny\n",
    "blurred = cv2.GaussianBlur(gray_im, None, sigmaX=2.5)\n",
    "edges = cv2.Canny(blurred, threshold1=30, threshold2=50)\n",
    "\n",
    "hough_space, rho_bins, theta_bins = hough_transform(\n",
    "    edges, n_bins_rho=300, n_bins_theta=300\n",
    ")\n",
    "\n",
    "fig, axes = plt.subplots(1, 3, figsize=(12, 4))\n",
    "axes[0].imshow(color_im)\n",
    "axes[0].set_title(\"Image\")\n",
    "axes[1].imshow(edges, cmap=\"gray\")\n",
    "axes[1].set_title(\"Edges\")\n",
    "axes[2].imshow(hough_space)\n",
    "axes[2].set_title(\"Hough space\")\n",
    "axes[2].set_xlabel(\"theta (index)\")\n",
    "axes[2].set_ylabel(\"rho (index)\")\n",
    "fig.tight_layout()"
   ]
  },
  {
   "cell_type": "markdown",
   "metadata": {
    "deletable": false,
    "editable": false,
    "nbgrader": {
     "cell_type": "markdown",
     "checksum": "441027c3c57a277a5612bb11becf3d6f",
     "grade": false,
     "grade_id": "cell-865d0e28d5bfc0ac",
     "locked": true,
     "schema_version": 3,
     "solution": false,
     "task": false
    }
   },
   "source": [
    "## Non-maximum suppression and finding peaks\n",
    "Write a function ``nms2d`` which suppresses all points in the Hough space that are not local maxima.\n",
    "This can be achieved by looking at the 8 direct neighbors of each pixel and keeping only pixels whose value is greater than all its neighbors. This function is simpler than the non-maximum suppression from the Canny Edge Detector exercise, since it does not take into account local gradients.\n",
    "\n",
    "Tip: think about what to do at the borders of the Hough array. What happens if we simply ignore the border areas? How should we treat it to be precise? (Remember that theta represents an angle that wraps around back to itself)."
   ]
  },
  {
   "cell_type": "code",
   "execution_count": null,
   "metadata": {
    "deletable": false,
    "nbgrader": {
     "cell_type": "code",
     "checksum": "5df54a1529b18aa9d0d635c6339bf59f",
     "grade": true,
     "grade_id": "cell-6d4f7f4681882539",
     "locked": false,
     "points": 3,
     "schema_version": 3,
     "solution": true
    }
   },
   "outputs": [],
   "source": [
    "# POINTS: 3\n",
    "\n",
    "def nms2d(hough_array):\n",
    "    hough_array_out = np.zeros_like(hough_array)\n",
    "\n",
    "    # YOUR CODE HERE\n",
    "    raise NotImplementedError()\n",
    "\n",
    "    return hough_array_out"
   ]
  },
  {
   "cell_type": "markdown",
   "metadata": {
    "deletable": false,
    "editable": false,
    "nbgrader": {
     "cell_type": "markdown",
     "checksum": "32f28dd56c3641b40992e78d2060f8f6",
     "grade": false,
     "grade_id": "cell-7e060df45bec23a3",
     "locked": true,
     "schema_version": 3,
     "solution": false,
     "task": false
    }
   },
   "source": [
    "Write a function ``find_hough_peaks`` that takes the result of ``hough_transform`` as an argument, finds the extrema in Hough space using ``nms2d`` and returns the index of all points $(\\rho_i, \\theta_i)$ for which the corresponding Hough value is greater than ``threshold``. What would happen if we swapped the order of the thresholding and the NMS operations?"
   ]
  },
  {
   "cell_type": "code",
   "execution_count": null,
   "metadata": {
    "deletable": false,
    "nbgrader": {
     "cell_type": "code",
     "checksum": "98222cdbcb47366e2b1ebf970155fc7d",
     "grade": true,
     "grade_id": "cell-9eda7cc46c4f7235",
     "locked": false,
     "points": 1,
     "schema_version": 3,
     "solution": true
    }
   },
   "outputs": [],
   "source": [
    "# POINTS: 1\n",
    "\n",
    "def find_hough_peaks(hough_space, threshold):\n",
    "    # YOUR CODE HERE\n",
    "    raise NotImplementedError()"
   ]
  },
  {
   "cell_type": "markdown",
   "metadata": {
    "deletable": false,
    "editable": false,
    "nbgrader": {
     "cell_type": "markdown",
     "checksum": "b53884328815ddba544afed9dc5b97dc",
     "grade": false,
     "grade_id": "cell-bf1eaea0989ebcf2",
     "locked": true,
     "schema_version": 3,
     "solution": false,
     "task": false
    }
   },
   "source": [
    "Now, let's plot the results of your implementation. Are the results correct? Are there any undetected lines or wrong lines returned? If yes, why are those lines missing and why are there false positives? Can you think of ways to avoid those mistakes?"
   ]
  },
  {
   "cell_type": "code",
   "execution_count": null,
   "metadata": {
    "deletable": false,
    "editable": false,
    "nbgrader": {
     "cell_type": "code",
     "checksum": "395dcae24135d2e87baacea63ac23c49",
     "grade": false,
     "grade_id": "cell-907990be67623cc2",
     "locked": true,
     "schema_version": 3,
     "solution": false,
     "task": false
    }
   },
   "outputs": [],
   "source": [
    "def plot_hough_lines(image, rho, theta):\n",
    "    # compute start and ending point of the line x*cos(theta)+y*sin(theta)=rho\n",
    "    x0, x1 = 0, image.shape[1] - 1\n",
    "    y0 = rho / np.sin(theta)\n",
    "    y1 = (rho - x1 * np.cos(theta)) / np.sin(theta)\n",
    "\n",
    "    # Check out this page for more drawing function in OpenCV:\n",
    "    # https://docs.opencv.org/3.1.0/dc/da5/tutorial_py_drawing_functions.html\n",
    "    for yy0, yy1 in zip(y0, y1):\n",
    "        cv2.line(image, (x0, int(yy0)), (x1, int(yy1)), color=(255, 0, 0), thickness=1)\n",
    "\n",
    "    return image\n",
    "\n",
    "\n",
    "# Find maximum\n",
    "rho_max_idx, theta_max_idx = find_hough_peaks(hough_space, 200)\n",
    "print(f\"gantrycrane.png: found {len(rho_max_idx)} lines in the image.\")\n",
    "rho_max, theta_max = rho_bins[rho_max_idx], theta_bins[theta_max_idx]\n",
    "\n",
    "color_image = iio.imread(\"gantrycrane.png\")\n",
    "image_with_lines = plot_hough_lines(color_image, rho_max, theta_max)\n",
    "\n",
    "# Plot\n",
    "fig, ax = plt.subplots(figsize=(8, 4))\n",
    "ax.imshow(image_with_lines)"
   ]
  },
  {
   "cell_type": "code",
   "execution_count": null,
   "metadata": {
    "deletable": false,
    "editable": false,
    "nbgrader": {
     "cell_type": "code",
     "checksum": "ccf43c7304a84e3dcc450138420140b2",
     "grade": false,
     "grade_id": "cell-9146a5deeb7f5014",
     "locked": true,
     "schema_version": 3,
     "solution": false,
     "task": false
    }
   },
   "outputs": [],
   "source": [
    "# Try another image\n",
    "im = iio.imread(\"circuit.png\")\n",
    "\n",
    "blurred = cv2.GaussianBlur(im, None, sigmaX=2)\n",
    "edge = cv2.Canny(blurred, threshold1=30, threshold2=90)\n",
    "hough_space, rho_bins, theta_bins = hough_transform(\n",
    "    edge, n_bins_rho=300, n_bins_theta=300\n",
    ")\n",
    "\n",
    "# Find maximum\n",
    "rho_max_idx, theta_max_idx = find_hough_peaks(hough_space, 100)\n",
    "print(f\"circuit.png: found {len(rho_max_idx)} lines in the image.\")\n",
    "rho_max, theta_max = rho_bins[rho_max_idx], theta_bins[theta_max_idx]\n",
    "color_image = cv2.cvtColor(im, cv2.COLOR_GRAY2RGB)\n",
    "image_with_lines = plot_hough_lines(color_image, rho_max, theta_max)\n",
    "\n",
    "# Plot\n",
    "fig, ax = plt.subplots(figsize=(8, 4))\n",
    "ax.imshow(image_with_lines)\n",
    "fig.tight_layout()"
   ]
  },
  {
   "cell_type": "markdown",
   "metadata": {
    "deletable": false,
    "editable": false,
    "nbgrader": {
     "cell_type": "markdown",
     "checksum": "485921dd30b4e81e44c9f57078d5ce9e",
     "grade": false,
     "grade_id": "cell-4c4f254eda2f3934",
     "locked": true,
     "schema_version": 3,
     "solution": false,
     "task": false
    }
   },
   "source": [
    "## [OPTIONAL] Circle Hough transform for circles\n",
    "\n",
    "The Hough transform is a general technique that can not only be applied to lines, but also to other parametric curves, such as circles.\n",
    "In the following, we will show how the implementation can be extended to finding circles.\n",
    "\n",
    "A circle can be parameterized by the following equation:\n",
    "$$\t\n",
    "    (\\mathtt{x}-a)^2 + (\\mathtt{y}-b)^2 = r^2. \\label{eq:hough_circle}\n",
    "$$\n",
    "\n",
    "Unfortunately, the computation and memory requirements for the Hough transform increase exponentially with the number of parameters.\n",
    "While a 3D search space is still just feasible, we can dramatically reduce the amount of computation by integrating the gradient direction in the algorithm.\n",
    "\n",
    "Without gradient information, all values $a, b$ lying on the cone given by above equation are incremented.\n",
    "With the gradient information, we only need to increment points on an arc centered at $(a, b)$:\n",
    "\\begin{eqnarray}\n",
    "\ta &=& x + r\\cos\\phi\\\\\n",
    "\tb &=& y + r\\sin\\phi,\n",
    "\\end{eqnarray}\n",
    "where $\\phi$ is the gradient angle returned by the edge operator.\n",
    "\n",
    "Create a function ``hough_circle`` which implements the Hough transform for circles.\n",
    "Try your implementation for a practical application of counting coins in an image.\n",
    "You can use the images ``coins1.png`` and ``coins2.png`` for testing."
   ]
  },
  {
   "cell_type": "code",
   "execution_count": null,
   "metadata": {
    "deletable": false,
    "nbgrader": {
     "cell_type": "code",
     "checksum": "3f536f36e46b4aee218ff2c215245188",
     "grade": true,
     "grade_id": "cell-a5dacf84fd9a91bf",
     "locked": false,
     "points": 0,
     "schema_version": 3,
     "solution": true,
     "task": false
    }
   },
   "outputs": [],
   "source": [
    "# YOUR CODE HERE\n",
    "raise NotImplementedError()"
   ]
  },
  {
   "cell_type": "markdown",
   "metadata": {
    "deletable": false,
    "editable": false,
    "nbgrader": {
     "cell_type": "markdown",
     "checksum": "ce8da9c95316cec9ae27e4fc7fc25bed",
     "grade": false,
     "grade_id": "cell-41820471cfcf26e4",
     "locked": true,
     "schema_version": 3,
     "solution": false,
     "task": false
    }
   },
   "source": [
    "## [OPTIONAL] Line Hough transform with gradient information \n",
    "The same trick of using the image gradient can be used for lines.\n",
    "Modify the hough voting code to only vote for one line per edge pixel, instead of all the lines running through this pixel.\n",
    "Can you think of any disadvantages of this approach?"
   ]
  },
  {
   "cell_type": "code",
   "execution_count": null,
   "metadata": {
    "deletable": false,
    "nbgrader": {
     "cell_type": "code",
     "checksum": "467a127fdea81ed2a5a555c9a3bb8b93",
     "grade": true,
     "grade_id": "cell-e382b415b74d990b",
     "locked": false,
     "points": 0,
     "schema_version": 3,
     "solution": true,
     "task": false
    }
   },
   "outputs": [],
   "source": [
    "# YOUR CODE HERE\n",
    "raise NotImplementedError()"
   ]
  },
  {
   "cell_type": "markdown",
   "metadata": {
    "deletable": false,
    "editable": false,
    "nbgrader": {
     "cell_type": "markdown",
     "checksum": "a9b5632ddff78a43fb034b73009de4cc",
     "grade": false,
     "grade_id": "cell-9d22ec40eaf63a5e",
     "locked": true,
     "schema_version": 3,
     "solution": false,
     "task": false
    }
   },
   "source": [
    "## [OPTIONAL] Counting coins\n",
    "\n",
    "Can you build a demo application that takes a photo of several different Euro coins lying on a table as input and tells you how much money it is in total in Euros (i.e. the output is one number)?\n",
    "\n",
    "How well does it work when the coins start to overlap or lie on top of each other?\n",
    "\n",
    "Use the functions you wrote in the previous questions.\n",
    "(Hint: you may need to include a reference shape in the picture in order to obtain the absolute scale, i. e. to convert from pixels to millimeters)."
   ]
  },
  {
   "cell_type": "code",
   "execution_count": null,
   "metadata": {
    "deletable": false,
    "nbgrader": {
     "cell_type": "code",
     "checksum": "29b7e00c0630052ea82f55bccf4abb06",
     "grade": true,
     "grade_id": "cell-44df0dca84e96cbb",
     "locked": false,
     "points": 0,
     "schema_version": 3,
     "solution": true,
     "task": false
    }
   },
   "outputs": [],
   "source": [
    "# YOUR CODE HERE\n",
    "raise NotImplementedError()"
   ]
  }
 ],
 "metadata": {
  "kernelspec": {
   "display_name": "Python 3 (ipykernel)",
   "language": "python",
   "name": "python3"
  },
  "language_info": {
   "codemirror_mode": {
    "name": "ipython",
    "version": 3
   },
   "file_extension": ".py",
   "mimetype": "text/x-python",
   "name": "python",
   "nbconvert_exporter": "python",
   "pygments_lexer": "ipython3",
   "version": "3.11.2"
  }
 },
 "nbformat": 4,
 "nbformat_minor": 2
}
